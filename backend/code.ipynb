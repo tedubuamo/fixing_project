{
 "cells": [
  {
   "cell_type": "code",
   "execution_count": null,
   "metadata": {},
   "outputs": [],
   "source": [
    "import os\n",
    "from twilio.rest import Client\n",
    "\n",
    "account_sid = 'AC518913b116fbf88f2bb7fece42240dba'\n",
    "auth_token = '0d76ec20910315e5874f7b2e8ea8e779'\n",
    "service_id = 'VA94503af81d08ed0557b6a62a5c396bcd'\n",
    "client = Client(account_sid, auth_token)\n",
    "\n",
    "def send_otp(phone_number):\n",
    "\n",
    "    \n",
    "    verification = client.verify.services(service_id).verifications.create(\n",
    "        to=phone_number,\n",
    "        channel=\"sms\" \n",
    "    )\n",
    "    print(f\"OTP sent to {phone_number}. Status: {verification.status}\")\n",
    "\n",
    "def check_status(phone_number, code_otp):\n",
    "    verification_check = client.verify.services(service_id).verification_checks.create(\n",
    "        to=phone_number,\n",
    "        code=code_otp\n",
    "    )\n",
    "    return verification_check.status\n",
    "    # if verification_check.status == \"approved\":\n",
    "    #     print(\"OTP Verified Successfully!\")\n",
    "    # else:\n",
    "    #     print(\"Failed to verify OTP.\")\n",
    "\n",
    "send_otp(\"+6287761135290\")\n",
    "\n",
    "input_code = int(input(\"masukkan code otp anda: \"))\n",
    "verif = check_status(\"+6287761135290\", code_otp= input_code)\n",
    "print(verif)"
   ]
  },
  {
   "cell_type": "code",
   "execution_count": 3,
   "metadata": {},
   "outputs": [],
   "source": [
    "# /areas (POST)\n",
    "# /regions (POST)\n",
    "# /branches (POST)\n",
    "# /clusters (POST)\n",
    "# /budget-recommendations (POST)\n",
    "# /budget-approvals (POST)\n",
    "# /expenses (POST) (GET)\n",
    "# /dashboard/area-summary (GET)\n",
    "# /dashboard/branch-report (GET)"
   ]
  },
  {
   "cell_type": "code",
   "execution_count": 81,
   "metadata": {},
   "outputs": [
    {
     "data": {
      "text/plain": [
       "{'data_report': [{'description': 'Program A',\n",
       "   'amount_used': 1000000.0,\n",
       "   'image_url': 'https://avfcfwtsmpslqzqeycbh.supabase.co/storage/v1/object/public/images/6002_1737621214870.png',\n",
       "   'time': '2025-01-23T08:33:37.310Z',\n",
       "   'type': 'AKUISISI'},\n",
       "  {'description': 'tes',\n",
       "   'amount_used': 100000.0,\n",
       "   'image_url': 'https://avfcfwtsmpslqzqeycbh.supabase.co/storage/v1/object/public/images/upload/6002_1738293603854.png',\n",
       "   'time': '2025-01-31T03:20:05.628Z',\n",
       "   'type': 'AKUISISI'}],\n",
       " 'data_recommendation': [{'recommend': 30000000.0, 'type': 'AKUISISI'}],\n",
       " 'total_amount': [{'type': 'AKUISISI',\n",
       "   'total_amount': 1100000.0,\n",
       "   'recommend': 30000000.0,\n",
       "   'remaining_balance': 28900000.0,\n",
       "   'percentage': 3.67}]}"
      ]
     },
     "execution_count": 81,
     "metadata": {},
     "output_type": "execute_result"
    }
   ],
   "source": [
    "import requests\n",
    "\n",
    "url = 'http://127.0.0.1:8000/api/admin/cluster/5018/1?month=1&year=2025'\n",
    "# params = {\n",
    "#     'month' : 1,\n",
    "#     'year' : 2025,\n",
    "# }\n",
    "response = requests.get(url)\n",
    "data = response.json()\n",
    "data"
   ]
  },
  {
   "cell_type": "code",
   "execution_count": 5,
   "metadata": {},
   "outputs": [
    {
     "data": {
      "text/plain": [
       "{'data_admin': {'id_user': 3006, 'username': 'BranchPekalongan'},\n",
       " 'cluster_summary': [{'id_cluster': 5019, 'error': 'Cluster API error'},\n",
       "  {'id_cluster': 5020, 'error': 'Cluster API error'},\n",
       "  {'id_cluster': 5018, 'error': 'Cluster API error'}]}"
      ]
     },
     "execution_count": 5,
     "metadata": {},
     "output_type": "execute_result"
    }
   ],
   "source": [
    "import requests\n",
    "\n",
    "url = 'http://127.0.0.1:8000/api/admin/branch/3006/'\n",
    "# params = {\n",
    "#     'username' : 'BranchSurabaya'\n",
    "# }\n",
    "response = requests.get(url)\n",
    "data = response.json()\n",
    "data"
   ]
  },
  {
   "cell_type": "code",
   "execution_count": 2,
   "metadata": {},
   "outputs": [
    {
     "ename": "JSONDecodeError",
     "evalue": "Expecting value: line 1 column 1 (char 0)",
     "output_type": "error",
     "traceback": [
      "\u001b[1;31m---------------------------------------------------------------------------\u001b[0m",
      "\u001b[1;31mJSONDecodeError\u001b[0m                           Traceback (most recent call last)",
      "File \u001b[1;32md:\\coding\\budgetflow\\.venv\\Lib\\site-packages\\requests\\models.py:974\u001b[0m, in \u001b[0;36mResponse.json\u001b[1;34m(self, **kwargs)\u001b[0m\n\u001b[0;32m    973\u001b[0m \u001b[38;5;28;01mtry\u001b[39;00m:\n\u001b[1;32m--> 974\u001b[0m     \u001b[38;5;28;01mreturn\u001b[39;00m \u001b[43mcomplexjson\u001b[49m\u001b[38;5;241;43m.\u001b[39;49m\u001b[43mloads\u001b[49m\u001b[43m(\u001b[49m\u001b[38;5;28;43mself\u001b[39;49m\u001b[38;5;241;43m.\u001b[39;49m\u001b[43mtext\u001b[49m\u001b[43m,\u001b[49m\u001b[43m \u001b[49m\u001b[38;5;241;43m*\u001b[39;49m\u001b[38;5;241;43m*\u001b[39;49m\u001b[43mkwargs\u001b[49m\u001b[43m)\u001b[49m\n\u001b[0;32m    975\u001b[0m \u001b[38;5;28;01mexcept\u001b[39;00m JSONDecodeError \u001b[38;5;28;01mas\u001b[39;00m e:\n\u001b[0;32m    976\u001b[0m     \u001b[38;5;66;03m# Catch JSON-related errors and raise as requests.JSONDecodeError\u001b[39;00m\n\u001b[0;32m    977\u001b[0m     \u001b[38;5;66;03m# This aliases json.JSONDecodeError and simplejson.JSONDecodeError\u001b[39;00m\n",
      "File \u001b[1;32mC:\\Python312\\Lib\\json\\__init__.py:346\u001b[0m, in \u001b[0;36mloads\u001b[1;34m(s, cls, object_hook, parse_float, parse_int, parse_constant, object_pairs_hook, **kw)\u001b[0m\n\u001b[0;32m    343\u001b[0m \u001b[38;5;28;01mif\u001b[39;00m (\u001b[38;5;28mcls\u001b[39m \u001b[38;5;129;01mis\u001b[39;00m \u001b[38;5;28;01mNone\u001b[39;00m \u001b[38;5;129;01mand\u001b[39;00m object_hook \u001b[38;5;129;01mis\u001b[39;00m \u001b[38;5;28;01mNone\u001b[39;00m \u001b[38;5;129;01mand\u001b[39;00m\n\u001b[0;32m    344\u001b[0m         parse_int \u001b[38;5;129;01mis\u001b[39;00m \u001b[38;5;28;01mNone\u001b[39;00m \u001b[38;5;129;01mand\u001b[39;00m parse_float \u001b[38;5;129;01mis\u001b[39;00m \u001b[38;5;28;01mNone\u001b[39;00m \u001b[38;5;129;01mand\u001b[39;00m\n\u001b[0;32m    345\u001b[0m         parse_constant \u001b[38;5;129;01mis\u001b[39;00m \u001b[38;5;28;01mNone\u001b[39;00m \u001b[38;5;129;01mand\u001b[39;00m object_pairs_hook \u001b[38;5;129;01mis\u001b[39;00m \u001b[38;5;28;01mNone\u001b[39;00m \u001b[38;5;129;01mand\u001b[39;00m \u001b[38;5;129;01mnot\u001b[39;00m kw):\n\u001b[1;32m--> 346\u001b[0m     \u001b[38;5;28;01mreturn\u001b[39;00m \u001b[43m_default_decoder\u001b[49m\u001b[38;5;241;43m.\u001b[39;49m\u001b[43mdecode\u001b[49m\u001b[43m(\u001b[49m\u001b[43ms\u001b[49m\u001b[43m)\u001b[49m\n\u001b[0;32m    347\u001b[0m \u001b[38;5;28;01mif\u001b[39;00m \u001b[38;5;28mcls\u001b[39m \u001b[38;5;129;01mis\u001b[39;00m \u001b[38;5;28;01mNone\u001b[39;00m:\n",
      "File \u001b[1;32mC:\\Python312\\Lib\\json\\decoder.py:337\u001b[0m, in \u001b[0;36mJSONDecoder.decode\u001b[1;34m(self, s, _w)\u001b[0m\n\u001b[0;32m    333\u001b[0m \u001b[38;5;250m\u001b[39m\u001b[38;5;124;03m\"\"\"Return the Python representation of ``s`` (a ``str`` instance\u001b[39;00m\n\u001b[0;32m    334\u001b[0m \u001b[38;5;124;03mcontaining a JSON document).\u001b[39;00m\n\u001b[0;32m    335\u001b[0m \n\u001b[0;32m    336\u001b[0m \u001b[38;5;124;03m\"\"\"\u001b[39;00m\n\u001b[1;32m--> 337\u001b[0m obj, end \u001b[38;5;241m=\u001b[39m \u001b[38;5;28;43mself\u001b[39;49m\u001b[38;5;241;43m.\u001b[39;49m\u001b[43mraw_decode\u001b[49m\u001b[43m(\u001b[49m\u001b[43ms\u001b[49m\u001b[43m,\u001b[49m\u001b[43m \u001b[49m\u001b[43midx\u001b[49m\u001b[38;5;241;43m=\u001b[39;49m\u001b[43m_w\u001b[49m\u001b[43m(\u001b[49m\u001b[43ms\u001b[49m\u001b[43m,\u001b[49m\u001b[43m \u001b[49m\u001b[38;5;241;43m0\u001b[39;49m\u001b[43m)\u001b[49m\u001b[38;5;241;43m.\u001b[39;49m\u001b[43mend\u001b[49m\u001b[43m(\u001b[49m\u001b[43m)\u001b[49m\u001b[43m)\u001b[49m\n\u001b[0;32m    338\u001b[0m end \u001b[38;5;241m=\u001b[39m _w(s, end)\u001b[38;5;241m.\u001b[39mend()\n",
      "File \u001b[1;32mC:\\Python312\\Lib\\json\\decoder.py:355\u001b[0m, in \u001b[0;36mJSONDecoder.raw_decode\u001b[1;34m(self, s, idx)\u001b[0m\n\u001b[0;32m    354\u001b[0m \u001b[38;5;28;01mexcept\u001b[39;00m \u001b[38;5;167;01mStopIteration\u001b[39;00m \u001b[38;5;28;01mas\u001b[39;00m err:\n\u001b[1;32m--> 355\u001b[0m     \u001b[38;5;28;01mraise\u001b[39;00m JSONDecodeError(\u001b[38;5;124m\"\u001b[39m\u001b[38;5;124mExpecting value\u001b[39m\u001b[38;5;124m\"\u001b[39m, s, err\u001b[38;5;241m.\u001b[39mvalue) \u001b[38;5;28;01mfrom\u001b[39;00m\u001b[38;5;250m \u001b[39m\u001b[38;5;28;01mNone\u001b[39;00m\n\u001b[0;32m    356\u001b[0m \u001b[38;5;28;01mreturn\u001b[39;00m obj, end\n",
      "\u001b[1;31mJSONDecodeError\u001b[0m: Expecting value: line 1 column 1 (char 0)",
      "\nDuring handling of the above exception, another exception occurred:\n",
      "\u001b[1;31mJSONDecodeError\u001b[0m                           Traceback (most recent call last)",
      "Cell \u001b[1;32mIn[2], line 9\u001b[0m\n\u001b[0;32m      4\u001b[0m params \u001b[38;5;241m=\u001b[39m {\n\u001b[0;32m      5\u001b[0m     \u001b[38;5;124m'\u001b[39m\u001b[38;5;124mmonth\u001b[39m\u001b[38;5;124m'\u001b[39m : \u001b[38;5;241m1\u001b[39m,\n\u001b[0;32m      6\u001b[0m     \u001b[38;5;124m'\u001b[39m\u001b[38;5;124myear\u001b[39m\u001b[38;5;124m'\u001b[39m : \u001b[38;5;241m2025\u001b[39m\n\u001b[0;32m      7\u001b[0m }\n\u001b[0;32m      8\u001b[0m response \u001b[38;5;241m=\u001b[39m requests\u001b[38;5;241m.\u001b[39mget(url, params\u001b[38;5;241m=\u001b[39mparams)\n\u001b[1;32m----> 9\u001b[0m data \u001b[38;5;241m=\u001b[39m \u001b[43mresponse\u001b[49m\u001b[38;5;241;43m.\u001b[39;49m\u001b[43mjson\u001b[49m\u001b[43m(\u001b[49m\u001b[43m)\u001b[49m\n\u001b[0;32m     10\u001b[0m data\n",
      "File \u001b[1;32md:\\coding\\budgetflow\\.venv\\Lib\\site-packages\\requests\\models.py:978\u001b[0m, in \u001b[0;36mResponse.json\u001b[1;34m(self, **kwargs)\u001b[0m\n\u001b[0;32m    974\u001b[0m     \u001b[38;5;28;01mreturn\u001b[39;00m complexjson\u001b[38;5;241m.\u001b[39mloads(\u001b[38;5;28mself\u001b[39m\u001b[38;5;241m.\u001b[39mtext, \u001b[38;5;241m*\u001b[39m\u001b[38;5;241m*\u001b[39mkwargs)\n\u001b[0;32m    975\u001b[0m \u001b[38;5;28;01mexcept\u001b[39;00m JSONDecodeError \u001b[38;5;28;01mas\u001b[39;00m e:\n\u001b[0;32m    976\u001b[0m     \u001b[38;5;66;03m# Catch JSON-related errors and raise as requests.JSONDecodeError\u001b[39;00m\n\u001b[0;32m    977\u001b[0m     \u001b[38;5;66;03m# This aliases json.JSONDecodeError and simplejson.JSONDecodeError\u001b[39;00m\n\u001b[1;32m--> 978\u001b[0m     \u001b[38;5;28;01mraise\u001b[39;00m RequestsJSONDecodeError(e\u001b[38;5;241m.\u001b[39mmsg, e\u001b[38;5;241m.\u001b[39mdoc, e\u001b[38;5;241m.\u001b[39mpos)\n",
      "\u001b[1;31mJSONDecodeError\u001b[0m: Expecting value: line 1 column 1 (char 0)"
     ]
    }
   ],
   "source": [
    "import requests\n",
    "\n",
    "url = 'http://127.0.0.1:8000/api/admin/region/2002/branch/3006/cluster/5018/1'\n",
    "params = {\n",
    "    'month' : 1,\n",
    "    'year' : 2025\n",
    "}\n",
    "response = requests.get(url, params=params)\n",
    "data = response.json()\n",
    "data"
   ]
  },
  {
   "cell_type": "code",
   "execution_count": 3,
   "metadata": {},
   "outputs": [
    {
     "data": {
      "text/plain": [
       "{'data_admin': {'username': 'admin/area', 'id_user': 1001},\n",
       " 'list_region': [{'id_user': 2003, 'username': 'RegionJatim'},\n",
       "  {'id_user': 2002, 'username': 'RegionJateng'},\n",
       "  {'id_user': 2001, 'username': 'RegionBalnus'}]}"
      ]
     },
     "execution_count": 3,
     "metadata": {},
     "output_type": "execute_result"
    }
   ],
   "source": [
    "import requests\n",
    "\n",
    "url = 'http://127.0.0.1:8000/api/admin/area/1001/'\n",
    "# params = {\n",
    "    # 'username' : 'admin/area'\n",
    "# }\n",
    "response = requests.get(url)\n",
    "data = response.json()\n",
    "data"
   ]
  },
  {
   "cell_type": "code",
   "execution_count": 4,
   "metadata": {},
   "outputs": [
    {
     "data": {
      "text/plain": [
       "{'user_data': {'username': 'tes', 'id_user': 6002, 'telp': '123'},\n",
       " 'marketing_fee': [{'total': 167000000.0, 'month': 1, 'year': 2025}],\n",
       " 'report_data': [{'id_poin': 1,\n",
       "   'month': 1,\n",
       "   'year': 2025,\n",
       "   'total_amount': 1100000.0,\n",
       "   'recommendation': 2500000.0,\n",
       "   'percentage': 44.0},\n",
       "  {'id_poin': 2,\n",
       "   'month': 1,\n",
       "   'year': 2025,\n",
       "   'total_amount': 132500.0,\n",
       "   'recommendation': 5000000.0,\n",
       "   'percentage': 2.65},\n",
       "  {'id_poin': 3,\n",
       "   'month': 1,\n",
       "   'year': 2025,\n",
       "   'total_amount': 650000.0,\n",
       "   'recommendation': 10000000.0,\n",
       "   'percentage': 6.5}],\n",
       " 'total_fee': 1882500.0,\n",
       " 'percentage_fee': 0.011272455089820358,\n",
       " 'monthlyData': {'labels': ['23 January 2025',\n",
       "   '24 January 2025',\n",
       "   '31 January 2025'],\n",
       "  'datasets': [{'label': 'Total Marketing Fee',\n",
       "    'data': [1000000.0, 782500.0, 100000.0],\n",
       "    'borderColor': '#FF4B2B',\n",
       "    'backgroundColor': 'rgba(255, 75, 43, 0.1)',\n",
       "    'tension': 0.4}]}}"
      ]
     },
     "execution_count": 4,
     "metadata": {},
     "output_type": "execute_result"
    }
   ],
   "source": [
    "import requests\n",
    "\n",
    "url = 'http://127.0.0.1:8000/api/user-overview/6002/'\n",
    "params = {\n",
    "    'month': 1,\n",
    "    'year': 2025\n",
    "}\n",
    "response = requests.get(url, params=params)\n",
    "data = response.json()\n",
    "data"
   ]
  },
  {
   "cell_type": "code",
   "execution_count": null,
   "metadata": {},
   "outputs": [
    {
     "name": "stdout",
     "output_type": "stream",
     "text": [
      "Hashed Password: $2b$12$emV287P.sX80D/svQQutE.xEs.Corf63VtIQpiZb7RSix.DiC4bs2\n",
      "benar\n"
     ]
    }
   ],
   "source": [
    "import bcrypt\n",
    "\n",
    "password = b\"testpassword\"\n",
    "\n",
    "salt = bcrypt.gensalt()\n",
    "\n",
    "hasehed = bcrypt.hashpw(password=password, salt=salt)\n",
    "\n",
    "print(f\"Hashed Password: {hasehed.decode('utf-8')}\")\n",
    "\n",
    "user = input(\"password:\")\n",
    "\n",
    "if bcrypt.checkpw(user.encode('utf-8'), hasehed):\n",
    "    print(\"benar\") \n",
    "else:\n",
    "    print(\"salah\")\n",
    "\n"
   ]
  }
 ],
 "metadata": {
  "kernelspec": {
   "display_name": ".venv",
   "language": "python",
   "name": "python3"
  },
  "language_info": {
   "codemirror_mode": {
    "name": "ipython",
    "version": 3
   },
   "file_extension": ".py",
   "mimetype": "text/x-python",
   "name": "python",
   "nbconvert_exporter": "python",
   "pygments_lexer": "ipython3",
   "version": "3.12.3"
  }
 },
 "nbformat": 4,
 "nbformat_minor": 2
}
